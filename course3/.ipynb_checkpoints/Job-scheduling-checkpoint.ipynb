{
 "cells": [
  {
   "cell_type": "code",
   "execution_count": 1,
   "metadata": {},
   "outputs": [],
   "source": [
    "from Model import *\n",
    "from DataLoader import *\n",
    "from Setting import *\n",
    "import collections\n",
    "import os"
   ]
  },
  {
   "cell_type": "code",
   "execution_count": 10,
   "metadata": {},
   "outputs": [],
   "source": [
    "@override\n",
    "class JS(Model):\n",
    "    def __init__(self):\n",
    "        super().__init__()\n",
    "        \n",
    "    def preprocess(self):\n",
    "        self.jobs = self.dataLoader.data[1:]\n",
    "        \n",
    "        \n",
    "    def model_notopt(self):\n",
    "        sorted_job = sorted(self.jobs, key = lambda x: (x[0]-x[1],x[0]), reverse = True)\n",
    "        \n",
    "        total = 0\n",
    "        for job in sorted_job:\n",
    "            total+=job[1]\n",
    "            job[1] = total\n",
    "\n",
    "        weighted_sum = sum(map(lambda x : x[0]*x[1],sorted_job))\n",
    "        return weighted_sum \n",
    "\n",
    "    def model(self):\n",
    "\n",
    "        sorted_job = sorted(self.jobs, key = lambda x: (x[0]/x[1],x[0]),reverse = True)\n",
    "        \n",
    "        total = 0\n",
    "        for job in sorted_job:\n",
    "            total+=job[1]\n",
    "            job[1] = total\n",
    "            \n",
    "        weighted_sum = sum(map(lambda x : x[0]*x[1],sorted_job))\n",
    "        \n",
    "        return weighted_sum \n",
    "            \n",
    "    def run(self):\n",
    "        self.read()\n",
    "        solution1 = self.algorithm1()\n",
    "        print(f'Non-optimal solution : {solution1}')\n",
    "        \n",
    "        self.read()\n",
    "        solution2 = self.algorithm2()\n",
    "        print(f'Optimal solution : {solution2}')\n",
    "        "
   ]
  },
  {
   "cell_type": "code",
   "execution_count": 11,
   "metadata": {},
   "outputs": [
    {
     "name": "stdout",
     "output_type": "stream",
     "text": [
      "Loading data ...\n",
      "Total 10001 lines read\n",
      "--------------------------------------------------\n",
      "result:67311454237\n"
     ]
    }
   ],
   "source": [
    "processLine = lambda x : list(map(int,map(str.strip,x.split())))\n",
    "arg = {'fileName':'data/job.txt','numLines':None ,  'processLine' : processLine  }\n",
    "d = DataLoader(**arg)\n",
    "m = JS()\n",
    "s = Setting(d,m)\n",
    "s.run()\n"
   ]
  },
  {
   "cell_type": "code",
   "execution_count": 12,
   "metadata": {},
   "outputs": [
    {
     "data": {
      "text/plain": [
       "<Setting.Setting at 0x10cd2c4e0>"
      ]
     },
     "execution_count": 12,
     "metadata": {},
     "output_type": "execute_result"
    }
   ],
   "source": [
    "Setting(d,m)"
   ]
  },
  {
   "cell_type": "code",
   "execution_count": 6,
   "metadata": {},
   "outputs": [
    {
     "name": "stdout",
     "output_type": "stream",
     "text": [
      "None\n"
     ]
    }
   ],
   "source": [
    "print(s.res)"
   ]
  },
  {
   "cell_type": "code",
   "execution_count": 7,
   "metadata": {},
   "outputs": [
    {
     "name": "stdout",
     "output_type": "stream",
     "text": [
      "<__main__.JS object at 0x10cb3ce10>\n"
     ]
    }
   ],
   "source": [
    "print(s.model.model)"
   ]
  },
  {
   "cell_type": "code",
   "execution_count": null,
   "metadata": {},
   "outputs": [],
   "source": []
  },
  {
   "cell_type": "code",
   "execution_count": null,
   "metadata": {},
   "outputs": [],
   "source": []
  }
 ],
 "metadata": {
  "kernelspec": {
   "display_name": "Python 3",
   "language": "python",
   "name": "python3"
  },
  "language_info": {
   "codemirror_mode": {
    "name": "ipython",
    "version": 3
   },
   "file_extension": ".py",
   "mimetype": "text/x-python",
   "name": "python",
   "nbconvert_exporter": "python",
   "pygments_lexer": "ipython3",
   "version": "3.6.8"
  }
 },
 "nbformat": 4,
 "nbformat_minor": 2
}
