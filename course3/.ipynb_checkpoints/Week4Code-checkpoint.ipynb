{
 "cells": [
  {
   "cell_type": "code",
   "execution_count": 6,
   "metadata": {},
   "outputs": [],
   "source": [
    "from Model import *\n",
    "from DataLoader import *\n",
    "from Setting import *\n",
    "\n",
    "import collections\n",
    "import os\n",
    "import numpy as np\n",
    "import pickle"
   ]
  },
  {
   "cell_type": "markdown",
   "metadata": {},
   "source": [
    "## Week3 code1 knapsack algorithm small"
   ]
  },
  {
   "cell_type": "code",
   "execution_count": 2,
   "metadata": {},
   "outputs": [],
   "source": [
    "class knapsack(Model):\n",
    "    def __init__(self):\n",
    "        super().__init__()\n",
    "        \n",
    "    def preprocess(self):\n",
    "        self.data = self.dataLoader.data[1:]\n",
    "        self.info =  self.dataLoader.data[0]\n",
    "        self.codedict = {}\n",
    "\n",
    "        \n",
    "    def model(self):\n",
    "        data = m.data\n",
    "        info = m.info\n",
    "\n",
    "        knapsack_size = info[0]\n",
    "        number_of_items = info[1]\n",
    "\n",
    "        value = [i[0] for i in data]\n",
    "        budegt = [i[1] for i in data]\n",
    "        \n",
    "        table = [[0 for i in range(knapsack_size+1)] for j in range(number_of_items+1)]\n",
    "        \n",
    "        for i in range(1,number_of_items+1):\n",
    "            for x in range(knapsack_size+1):\n",
    "                if (x-budegt[i-1])<0:\n",
    "                    v2 = 0\n",
    "                else: v2 = table[i-1][x-budegt[i-1]] + value[i-1]\n",
    "                v1 = table[i-1][x]\n",
    "                table[i][x] = max(v1,v2)\n",
    "        \n",
    "        return table[number_of_items][knapsack_size]\n"
   ]
  },
  {
   "cell_type": "code",
   "execution_count": 3,
   "metadata": {},
   "outputs": [
    {
     "name": "stdout",
     "output_type": "stream",
     "text": [
      "Loading data ...\n",
      "Total 101 lines read\n",
      "--------------------------------------------------\n",
      "result:2493893\n",
      "CPU times: user 460 ms, sys: 9.8 ms, total: 470 ms\n",
      "Wall time: 469 ms\n"
     ]
    }
   ],
   "source": [
    "%%time\n",
    "processLine = lambda x : list(map(int,map(str.strip,x.split())))\n",
    "arg = {'fileName':'./data/knapsack1.txt','numLines':None ,  'processLine' : processLine  }\n",
    "\n",
    "d = DataLoader(**arg)\n",
    "m = knapsack()\n",
    "s = Setting(d,m,False)\n",
    "s.run()"
   ]
  },
  {
   "cell_type": "markdown",
   "metadata": {},
   "source": [
    "## Week3 code2 knapsack algorithm big"
   ]
  },
  {
   "cell_type": "code",
   "execution_count": 4,
   "metadata": {},
   "outputs": [],
   "source": [
    "class knapsack_big(Model):\n",
    "    \n",
    "    def __init__(self):\n",
    "        super().__init__()\n",
    "        \n",
    "    def preprocess(self):\n",
    "        self.data = self.dataLoader.data[1:]\n",
    "        self.info =  self.dataLoader.data[0]\n",
    "        self.value = [i[0] for i in self.dataLoader.data[1:]]\n",
    "        self.budegt = [i[1] for i in self.dataLoader.data[1:]]\n",
    "        self.codedict = {}\n",
    "        \n",
    "    def compute_score(self,i,x):\n",
    "        \n",
    "        if i == 0:\n",
    "            return 0\n",
    "        \n",
    "        try:\n",
    "            return self.codedict[(i,x)]\n",
    "        except KeyError:\n",
    "            v1 =  self.compute_score(i-1,x)\n",
    "            if x-self.budegt[i-1] < 0:\n",
    "                v2 = v1\n",
    "            else:\n",
    "                v2 =  self.compute_score(i-1,x-self.budegt[i-1]) + self.value[i-1]\n",
    "            result = max(v1,v2)\n",
    "            self.codedict[(i,x)] = result\n",
    "            return result\n",
    "\n",
    "        \n",
    "    def model(self):\n",
    "        data = m.data\n",
    "        info = m.info\n",
    "\n",
    "        knapsack_size = info[0]\n",
    "        number_of_items = info[1]\n",
    "        result = self.compute_score(number_of_items,knapsack_size)\n",
    "        \n",
    "        return result"
   ]
  },
  {
   "cell_type": "code",
   "execution_count": 5,
   "metadata": {},
   "outputs": [
    {
     "name": "stdout",
     "output_type": "stream",
     "text": [
      "Loading data ...\n",
      "Total 2001 lines read\n",
      "--------------------------------------------------\n",
      "result:4243395\n"
     ]
    }
   ],
   "source": [
    "\n",
    "processLine = lambda x : list(map(int,map(str.strip,x.split())))\n",
    "arg = {'fileName':'./data/knapsack_big.txt','numLines':None ,  'processLine' : processLine  }\n",
    "\n",
    "d = DataLoader(**arg)\n",
    "m = knapsack_big()\n",
    "s = Setting(d,m,False)\n",
    "s.run()"
   ]
  },
  {
   "cell_type": "markdown",
   "metadata": {},
   "source": [
    "## Week3 code3 Optimal Binary Search Tree( For problem set)"
   ]
  },
  {
   "cell_type": "code",
   "execution_count": 32,
   "metadata": {},
   "outputs": [],
   "source": [
    "class OBST(Model):\n",
    "    \n",
    "    def __init__(self):\n",
    "        super().__init__()\n",
    "        \n",
    "    def preprocess(self):\n",
    "        self.data = self.dataLoader.data[1:]\n",
    "        self.info =  self.dataLoader.data[0]\n",
    "        self.value = [i[0] for i in self.dataLoader.data[1:]]\n",
    "        self.budegt = [i[1] for i in self.dataLoader.data[1:]]\n",
    "        self.codedict = {}\n",
    "        \n",
    "    def model(self):\n",
    "        data = m.data\n",
    "        size = int(m.info[0])\n",
    "        table = [[0 for i in range(size)] for j in range(size)]\n",
    "\n",
    "        for s in range(size):\n",
    "            for i in range(1,size+1-s):\n",
    "                compar_list = []\n",
    "                for z in range(i,i+s+1):\n",
    "                    if i > z-1:\n",
    "                        v1 = 0\n",
    "                    else:\n",
    "                        v1 = table[i - 1][z-1 - 1]\n",
    "                    if z+1>i+s:\n",
    "                        v2 = 0\n",
    "                    else:\n",
    "                        v2 = table[z+1 - 1][i+s - 1]\n",
    "                    probsum = sum([c[1] for c in data if c[0] >= i and c[0] <= i+s])\n",
    "                    item = probsum + v1+ v2\n",
    "                    compar_list.append(item)\n",
    "                table[i - 1][i+s - 1] = min(compar_list)\n",
    "        return (table[0][size-1])"
   ]
  },
  {
   "cell_type": "code",
   "execution_count": 33,
   "metadata": {},
   "outputs": [
    {
     "name": "stdout",
     "output_type": "stream",
     "text": [
      "Loading data ...\n",
      "Total 8 lines read\n",
      "--------------------------------------------------\n",
      "result:2.1799999999999997\n"
     ]
    }
   ],
   "source": [
    "\n",
    "processLine = lambda x : list(map(float,map(str.strip,x.split())))\n",
    "arg = {'fileName':'./data/OptimalBST.txt','numLines':None ,  'processLine' : processLine  }\n",
    "\n",
    "d = DataLoader(**arg)\n",
    "m = OBST()\n",
    "s = Setting(d,m,False)\n",
    "s.run()"
   ]
  },
  {
   "cell_type": "code",
   "execution_count": null,
   "metadata": {},
   "outputs": [],
   "source": []
  },
  {
   "cell_type": "code",
   "execution_count": null,
   "metadata": {},
   "outputs": [],
   "source": []
  },
  {
   "cell_type": "code",
   "execution_count": null,
   "metadata": {},
   "outputs": [],
   "source": []
  },
  {
   "cell_type": "code",
   "execution_count": null,
   "metadata": {},
   "outputs": [],
   "source": []
  },
  {
   "cell_type": "code",
   "execution_count": null,
   "metadata": {},
   "outputs": [],
   "source": []
  }
 ],
 "metadata": {
  "kernelspec": {
   "display_name": "Python 3",
   "language": "python",
   "name": "python3"
  },
  "language_info": {
   "codemirror_mode": {
    "name": "ipython",
    "version": 3
   },
   "file_extension": ".py",
   "mimetype": "text/x-python",
   "name": "python",
   "nbconvert_exporter": "python",
   "pygments_lexer": "ipython3",
   "version": "3.6.8"
  }
 },
 "nbformat": 4,
 "nbformat_minor": 2
}
