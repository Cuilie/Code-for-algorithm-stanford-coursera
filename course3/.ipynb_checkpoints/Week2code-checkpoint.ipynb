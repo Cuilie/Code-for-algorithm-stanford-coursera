{
 "cells": [
  {
   "cell_type": "code",
   "execution_count": 365,
   "metadata": {},
   "outputs": [],
   "source": [
    "from Model import *\n",
    "from DataLoader import *\n",
    "from Setting import *\n",
    "import collections\n",
    "import os\n",
    "import numpy as np\n",
    "import pickle"
   ]
  },
  {
   "cell_type": "code",
   "execution_count": 329,
   "metadata": {},
   "outputs": [],
   "source": [
    "\n",
    "class JS(Model):\n",
    "    def __init__(self):\n",
    "        super().__init__()\n",
    "        \n",
    "    def preprocess(self):\n",
    "        self.jobs = self.dataLoader.data[1:]\n",
    "        \n",
    "     \n",
    "    def model_notopt(self):\n",
    "        sorted_job = sorted(self.jobs, key = lambda x: (x[0]-x[1],x[0]), reverse = True)\n",
    "        \n",
    "        total = 0\n",
    "        for job in sorted_job:\n",
    "            total+=job[1]\n",
    "            job[1] = total\n",
    "\n",
    "        weighted_sum = sum(map(lambda x : x[0]*x[1],sorted_job))\n",
    "        return weighted_sum \n",
    "    \n",
    "    def model(self):\n",
    "\n",
    "        sorted_job = sorted(self.jobs, key = lambda x: (x[0]/x[1],x[0]),reverse = True)\n",
    "        \n",
    "        total = 0\n",
    "        for job in sorted_job:\n",
    "            total+=job[1]\n",
    "            job[1] = total\n",
    "            \n",
    "        weighted_sum = sum(map(lambda x : x[0]*x[1],sorted_job))\n",
    "        \n",
    "        return weighted_sum\n",
    "    \n"
   ]
  },
  {
   "cell_type": "code",
   "execution_count": 330,
   "metadata": {},
   "outputs": [
    {
     "name": "stdout",
     "output_type": "stream",
     "text": [
      "Loading data ...\n",
      "Total 124751 lines read\n",
      "--------------------------------------------------\n",
      "result:106\n"
     ]
    }
   ],
   "source": [
    "processLine = lambda x : list(map(int,map(str.strip,x.split())))\n",
    "arg = {'fileName':'data/Clustering1.txt','numLines':None ,  'processLine' : processLine  }\n",
    "\n",
    "d = DataLoader(**arg)\n",
    "m = Clustering()\n",
    "s = Setting(d,m,False)\n",
    "s.run()"
   ]
  },
  {
   "cell_type": "code",
   "execution_count": 331,
   "metadata": {},
   "outputs": [],
   "source": [
    "class Node():\n",
    "    def __init__(self):\n",
    "        self.father = None\n",
    "        self.size = 1\n",
    "        self.childrens = []\n",
    "        self.value = None\n",
    "        self.isleaf = None"
   ]
  },
  {
   "cell_type": "code",
   "execution_count": 332,
   "metadata": {},
   "outputs": [],
   "source": [
    "class UnionFind():\n",
    "    def __init__(self):\n",
    "        self.unionfind_nodeset = set()\n",
    "        self.nodehash = {}\n",
    "\n",
    "        \n",
    "    def find(self,vertice_id):\n",
    "        '''\n",
    "        Given a vertice id (integer), \n",
    "        return its cluster vertice id (integer).\n",
    "        '''\n",
    "        rootnode = self.nodehash[vertice_id]    \n",
    "        while rootnode.father:\n",
    "#             print(rootnode.father.value)\n",
    "            rootnode = rootnode.father\n",
    "\n",
    "        return rootnode.value\n",
    "\n",
    "    def union(self,id1,id2):\n",
    "        '''\n",
    "        Given two vertice ids, ie: id1, id2 (integer), \n",
    "        Union two clusters.\n",
    "        '''\n",
    "        \n",
    "        id1 = self.find(id1)\n",
    "        id2 = self.find(id2)\n",
    "        size1 = self.nodehash[id1].size\n",
    "        size2 = self.nodehash[id2].size\n",
    "\n",
    "        value1 = self.nodehash[id1].value\n",
    "        value2 = self.nodehash[id2].value\n",
    "        \n",
    "        if value1 == value2:return\n",
    "        \n",
    "        if size1 <= size2 :\n",
    "            self.unionfind_nodeset.remove(self.nodehash[id1])\n",
    "            self.nodehash[id2].childrens.append(self.nodehash[id1])\n",
    "            self.nodehash[id1].father = self.nodehash[id2]\n",
    "            self.nodehash[id2].size += self.nodehash[id1].size\n",
    "        \n",
    "        if size2 < size1 :\n",
    "            self.unionfind_nodeset.remove(self.nodehash[id2])\n",
    "            self.nodehash[id1].childrens.append(self.nodehash[id2])\n",
    "            self.nodehash[id2].father = self.nodehash[id1]\n",
    "            self.nodehash[id1].size += self.nodehash[id2].size\n",
    "            \n",
    "    def init_unionfind_nodeset(self,cluster):\n",
    "        for c in cluster:\n",
    "            n = Node()\n",
    "            n.value = c[0]\n",
    "            chlidrenlist = []\n",
    "            for index in range(len(c)):\n",
    "                if index != 0:\n",
    "                    n_c = Node()\n",
    "                    n_c.father = n\n",
    "                    n_c.value = c[index]\n",
    "                    n_c.isleaf = True\n",
    "                    self.nodehash[c[index]] = n_c\n",
    "                    chlidrenlist.append(n_c)\n",
    "                if chlidrenlist == []:\n",
    "                    n.isleaf = True\n",
    "                    n.size = 1\n",
    "                else:\n",
    "                    n.size = len(chlidrenlist) + 1\n",
    "                    n.chlidrenlist = chlidrenlist\n",
    "                    n.isleaf = False\n",
    "\n",
    "            self.nodehash[c[0]] = n\n",
    "            self.unionfind_nodeset.add(n)\n",
    "\n",
    "    "
   ]
  },
  {
   "cell_type": "code",
   "execution_count": 333,
   "metadata": {},
   "outputs": [],
   "source": [
    "'''\n",
    "Test case for class Unionfind.\n",
    "'''\n",
    "\n",
    "cluster = [[1,3,4],[7,9],[10],[11,23,19,27]]\n",
    "uf = UnionFind()\n",
    "uf.init_unionfind_nodeset(cluster)\n",
    "\n",
    "assert uf.find(10) == 10\n",
    "assert uf.find(27) == 11\n",
    "\n",
    "uf.union(1,11)\n",
    "uf.union(11,10)\n",
    "\n",
    "assert uf.find(3) == 11\n",
    "assert uf.find(9) == 7\n",
    "assert len(uf.unionfind_nodeset) == 2"
   ]
  },
  {
   "cell_type": "code",
   "execution_count": 334,
   "metadata": {},
   "outputs": [],
   "source": [
    "class Clustering(Model):\n",
    "    def __init__(self):\n",
    "        super().__init__()\n",
    "        \n",
    "    def preprocess(self):\n",
    "        self.data = self.dataLoader.data[1:]\n",
    "        \n",
    "    \n",
    "    def model(self):\n",
    "        k = 4\n",
    "        sorted_bycost = sorted(self.data, key = lambda x: x[2],reverse = False)\n",
    "\n",
    "        \n",
    "        p1 = [x[1] for x in sorted_bycost]\n",
    "        p2 = [x[0] for x in sorted_bycost]\n",
    "        allpoint = set(p1).union(set(p2))\n",
    "        cluster = [[i] for i in allpoint]\n",
    "\n",
    "        uf = UnionFind()\n",
    "        uf.init_unionfind_nodeset(cluster)\n",
    "        index = 0\n",
    "        while len(uf.unionfind_nodeset)!=k:\n",
    "            uf.union(sorted_bycost[index][0],sorted_bycost[index][1])\n",
    "            index+=1\n",
    "            \n",
    "        # If a edge that create a cycle, that edge should not count as spacing\n",
    "        while uf.find(sorted_bycost[index][0]) == uf.find(sorted_bycost[index][1]):\n",
    "            index+=1\n",
    "\n",
    "        return sorted_bycost[index][2]"
   ]
  },
  {
   "cell_type": "code",
   "execution_count": 335,
   "metadata": {},
   "outputs": [
    {
     "name": "stdout",
     "output_type": "stream",
     "text": [
      "Loading data ...\n",
      "Total 124751 lines read\n",
      "--------------------------------------------------\n",
      "result:106\n"
     ]
    }
   ],
   "source": [
    "processLine = lambda x : list(map(int,map(str.strip,x.split())))\n",
    "arg = {'fileName':'data/Clustering1.txt','numLines':None ,  'processLine' : processLine  }\n",
    "\n",
    "d = DataLoader(**arg)\n",
    "m = Clustering()\n",
    "s = Setting(d,m,False)\n",
    "s.run()"
   ]
  },
  {
   "cell_type": "code",
   "execution_count": null,
   "metadata": {},
   "outputs": [],
   "source": []
  },
  {
   "cell_type": "code",
   "execution_count": null,
   "metadata": {},
   "outputs": [],
   "source": []
  },
  {
   "cell_type": "code",
   "execution_count": null,
   "metadata": {},
   "outputs": [],
   "source": []
  },
  {
   "cell_type": "code",
   "execution_count": null,
   "metadata": {},
   "outputs": [],
   "source": []
  },
  {
   "cell_type": "code",
   "execution_count": null,
   "metadata": {},
   "outputs": [],
   "source": []
  },
  {
   "cell_type": "code",
   "execution_count": null,
   "metadata": {},
   "outputs": [],
   "source": []
  },
  {
   "cell_type": "code",
   "execution_count": 379,
   "metadata": {},
   "outputs": [],
   "source": [
    "class Computer_K(Model):\n",
    "    def __init__(self):\n",
    "        super().__init__()\n",
    "        self.index_data = dict()\n",
    "        self.table = dict()\n",
    "        self.UnionFind = None\n",
    "        \n",
    "    def preprocess(self):\n",
    "        self.index_data = {i+1:v for i,v in enumerate(self.dataLoader.data[1:])}\n",
    "        self.data = self.dataLoader.data[1:]\n",
    "        for i in range(24):\n",
    "            self.table[i] = [ set([j for j in self.index_data if self.index_data[j][i]==0]) , \n",
    "                              set([j for j in self.index_data if self.index_data[j][i]==1]) ]\n",
    "\n",
    "    def intersection(self, i, pre_result):\n",
    "        result = []\n",
    "        # Retrive these two sets '0,1'\n",
    "        new_sets = self.table[i]\n",
    "        \n",
    "        for new_set in new_sets:\n",
    "            for old_set in pre_result:\n",
    "                if len(new_set&old_set)>1:\n",
    "                    result.append(new_set&old_set)\n",
    "        return result\n",
    "                \n",
    "    \n",
    "    def model(self):\n",
    "        pointlist = []\n",
    "        uf = UnionFind()\n",
    "        \n",
    "        for p in self.index_data.keys():\n",
    "            cluster.append([p])\n",
    "        uf.init_unionfind_nodeset(cluster)\n",
    "        print(len(uf.unionfind_nodeset))\n",
    "        \n",
    "        for o in range(24):\n",
    "            for i in range(o+1,24):\n",
    "                print(o,i)\n",
    "                D = [j for j in range(24) if j!=o and j!=i]\n",
    "                \n",
    "                result = self.table[D[0]]\n",
    "                for i in D[1:]:\n",
    "                    result = self.intersection(i,result)\n",
    "                    \n",
    "        \n",
    "                \n",
    "                for pointset in result:\n",
    "                    pointlist = list(pointset)\n",
    "                    for p in pointlist[1:]:\n",
    "                        uf.union(p,pointlist[0])\n",
    "                \n",
    "                print(len(uf.unionfind_nodeset))\n",
    "        \n",
    "#         result_file = 'result.txt'\n",
    "#         with open(result_file, \"wb\") as fp:   #Pickling\n",
    "#             pickle.dump(result, fp)\n",
    "            \n",
    "#         with open(result_file, \"rb\") as fp:   #Pickling\n",
    "#             result = pickle.load(fp)\n",
    "      \n",
    "    \n",
    "        return 0 "
   ]
  },
  {
   "cell_type": "code",
   "execution_count": 380,
   "metadata": {},
   "outputs": [
    {
     "name": "stdout",
     "output_type": "stream",
     "text": [
      "Loading data ...\n",
      "Total 200001 lines read\n",
      "--------------------------------------------------\n",
      "0 1\n",
      "195196\n",
      "0 2\n",
      "192805\n",
      "0 3\n",
      "190484\n",
      "0 4\n",
      "188193\n",
      "0 5\n",
      "185875\n",
      "0 6\n",
      "183515\n",
      "0 7\n",
      "181219\n",
      "0 8\n",
      "178902\n",
      "0 9\n",
      "176576\n",
      "0 10\n",
      "174312\n",
      "0 11\n",
      "171982\n",
      "0 12\n",
      "169723\n",
      "0 13\n",
      "167403\n",
      "0 14\n",
      "165050\n",
      "0 15\n",
      "162765\n",
      "0 16\n",
      "160420\n",
      "0 17\n",
      "158039\n",
      "0 18\n",
      "155722\n",
      "0 19\n",
      "153362\n",
      "0 20\n",
      "151043\n",
      "0 21\n"
     ]
    },
    {
     "ename": "KeyboardInterrupt",
     "evalue": "",
     "output_type": "error",
     "traceback": [
      "\u001b[0;31m---------------------------------------------------------------------------\u001b[0m",
      "\u001b[0;31mKeyboardInterrupt\u001b[0m                         Traceback (most recent call last)",
      "\u001b[0;32m<timed exec>\u001b[0m in \u001b[0;36m<module>\u001b[0;34m()\u001b[0m\n",
      "\u001b[0;32m~/Desktop/Study/Daily/Coursera/code/course3/Setting.py\u001b[0m in \u001b[0;36mrun\u001b[0;34m(self, data)\u001b[0m\n\u001b[1;32m     30\u001b[0m         \u001b[0;32melse\u001b[0m\u001b[0;34m:\u001b[0m\u001b[0;34m\u001b[0m\u001b[0;34m\u001b[0m\u001b[0m\n\u001b[1;32m     31\u001b[0m             \u001b[0mself\u001b[0m\u001b[0;34m.\u001b[0m\u001b[0minputmodel\u001b[0m\u001b[0;34m.\u001b[0m\u001b[0mread\u001b[0m\u001b[0;34m(\u001b[0m\u001b[0mself\u001b[0m\u001b[0;34m.\u001b[0m\u001b[0minputdataloader\u001b[0m\u001b[0;34m)\u001b[0m\u001b[0;34m\u001b[0m\u001b[0;34m\u001b[0m\u001b[0m\n\u001b[0;32m---> 32\u001b[0;31m             \u001b[0mself\u001b[0m\u001b[0;34m.\u001b[0m\u001b[0mres\u001b[0m \u001b[0;34m=\u001b[0m \u001b[0mself\u001b[0m\u001b[0;34m.\u001b[0m\u001b[0minputmodel\u001b[0m\u001b[0;34m.\u001b[0m\u001b[0mmodel\u001b[0m\u001b[0;34m(\u001b[0m\u001b[0;34m)\u001b[0m\u001b[0;34m\u001b[0m\u001b[0;34m\u001b[0m\u001b[0m\n\u001b[0m\u001b[1;32m     33\u001b[0m             \u001b[0mprint\u001b[0m\u001b[0;34m(\u001b[0m\u001b[0;34mf'result:{self.res}'\u001b[0m\u001b[0;34m)\u001b[0m\u001b[0;34m\u001b[0m\u001b[0;34m\u001b[0m\u001b[0m\n\u001b[1;32m     34\u001b[0m \u001b[0;34m\u001b[0m\u001b[0m\n",
      "\u001b[0;32m<ipython-input-379-ca3feb6aefb6>\u001b[0m in \u001b[0;36mmodel\u001b[0;34m(self)\u001b[0m\n\u001b[1;32m     41\u001b[0m                 \u001b[0mresult\u001b[0m \u001b[0;34m=\u001b[0m \u001b[0mself\u001b[0m\u001b[0;34m.\u001b[0m\u001b[0mtable\u001b[0m\u001b[0;34m[\u001b[0m\u001b[0mD\u001b[0m\u001b[0;34m[\u001b[0m\u001b[0;36m0\u001b[0m\u001b[0;34m]\u001b[0m\u001b[0;34m]\u001b[0m\u001b[0;34m\u001b[0m\u001b[0;34m\u001b[0m\u001b[0m\n\u001b[1;32m     42\u001b[0m                 \u001b[0;32mfor\u001b[0m \u001b[0mi\u001b[0m \u001b[0;32min\u001b[0m \u001b[0mD\u001b[0m\u001b[0;34m[\u001b[0m\u001b[0;36m1\u001b[0m\u001b[0;34m:\u001b[0m\u001b[0;34m]\u001b[0m\u001b[0;34m:\u001b[0m\u001b[0;34m\u001b[0m\u001b[0;34m\u001b[0m\u001b[0m\n\u001b[0;32m---> 43\u001b[0;31m                     \u001b[0mresult\u001b[0m \u001b[0;34m=\u001b[0m \u001b[0mself\u001b[0m\u001b[0;34m.\u001b[0m\u001b[0mintersection\u001b[0m\u001b[0;34m(\u001b[0m\u001b[0mi\u001b[0m\u001b[0;34m,\u001b[0m\u001b[0mresult\u001b[0m\u001b[0;34m)\u001b[0m\u001b[0;34m\u001b[0m\u001b[0;34m\u001b[0m\u001b[0m\n\u001b[0m\u001b[1;32m     44\u001b[0m \u001b[0;34m\u001b[0m\u001b[0m\n\u001b[1;32m     45\u001b[0m \u001b[0;34m\u001b[0m\u001b[0m\n",
      "\u001b[0;32m<ipython-input-379-ca3feb6aefb6>\u001b[0m in \u001b[0;36mintersection\u001b[0;34m(self, i, pre_result)\u001b[0m\n\u001b[1;32m     20\u001b[0m         \u001b[0;32mfor\u001b[0m \u001b[0mnew_set\u001b[0m \u001b[0;32min\u001b[0m \u001b[0mnew_sets\u001b[0m\u001b[0;34m:\u001b[0m\u001b[0;34m\u001b[0m\u001b[0;34m\u001b[0m\u001b[0m\n\u001b[1;32m     21\u001b[0m             \u001b[0;32mfor\u001b[0m \u001b[0mold_set\u001b[0m \u001b[0;32min\u001b[0m \u001b[0mpre_result\u001b[0m\u001b[0;34m:\u001b[0m\u001b[0;34m\u001b[0m\u001b[0;34m\u001b[0m\u001b[0m\n\u001b[0;32m---> 22\u001b[0;31m                 \u001b[0;32mif\u001b[0m \u001b[0mlen\u001b[0m\u001b[0;34m(\u001b[0m\u001b[0mnew_set\u001b[0m\u001b[0;34m&\u001b[0m\u001b[0mold_set\u001b[0m\u001b[0;34m)\u001b[0m\u001b[0;34m>\u001b[0m\u001b[0;36m1\u001b[0m\u001b[0;34m:\u001b[0m\u001b[0;34m\u001b[0m\u001b[0;34m\u001b[0m\u001b[0m\n\u001b[0m\u001b[1;32m     23\u001b[0m                     \u001b[0mresult\u001b[0m\u001b[0;34m.\u001b[0m\u001b[0mappend\u001b[0m\u001b[0;34m(\u001b[0m\u001b[0mnew_set\u001b[0m\u001b[0;34m&\u001b[0m\u001b[0mold_set\u001b[0m\u001b[0;34m)\u001b[0m\u001b[0;34m\u001b[0m\u001b[0;34m\u001b[0m\u001b[0m\n\u001b[1;32m     24\u001b[0m         \u001b[0;32mreturn\u001b[0m \u001b[0mresult\u001b[0m\u001b[0;34m\u001b[0m\u001b[0;34m\u001b[0m\u001b[0m\n",
      "\u001b[0;31mKeyboardInterrupt\u001b[0m: "
     ]
    }
   ],
   "source": [
    "%%time\n",
    "processLine = lambda x : list(map(int,map(str.strip,x.split())))\n",
    "arg = {'fileName':'data/Clustering_big.txt','numLines':None ,  'processLine' : processLine  }\n",
    "\n",
    "d = DataLoader(**arg)\n",
    "m = Computer_K()\n",
    "s = Setting(d,m,False)\n",
    "s.run()\n"
   ]
  },
  {
   "cell_type": "code",
   "execution_count": null,
   "metadata": {},
   "outputs": [],
   "source": [
    "\n"
   ]
  },
  {
   "cell_type": "code",
   "execution_count": null,
   "metadata": {},
   "outputs": [],
   "source": []
  },
  {
   "cell_type": "code",
   "execution_count": null,
   "metadata": {},
   "outputs": [],
   "source": []
  },
  {
   "cell_type": "code",
   "execution_count": null,
   "metadata": {},
   "outputs": [],
   "source": []
  },
  {
   "cell_type": "code",
   "execution_count": null,
   "metadata": {},
   "outputs": [],
   "source": []
  },
  {
   "cell_type": "code",
   "execution_count": null,
   "metadata": {},
   "outputs": [],
   "source": []
  },
  {
   "cell_type": "code",
   "execution_count": null,
   "metadata": {},
   "outputs": [],
   "source": []
  },
  {
   "cell_type": "code",
   "execution_count": null,
   "metadata": {},
   "outputs": [],
   "source": []
  },
  {
   "cell_type": "code",
   "execution_count": 238,
   "metadata": {},
   "outputs": [],
   "source": []
  },
  {
   "cell_type": "code",
   "execution_count": null,
   "metadata": {},
   "outputs": [],
   "source": []
  },
  {
   "cell_type": "code",
   "execution_count": null,
   "metadata": {},
   "outputs": [],
   "source": []
  },
  {
   "cell_type": "code",
   "execution_count": null,
   "metadata": {},
   "outputs": [],
   "source": []
  },
  {
   "cell_type": "code",
   "execution_count": null,
   "metadata": {},
   "outputs": [],
   "source": []
  }
 ],
 "metadata": {
  "kernelspec": {
   "display_name": "Python 3",
   "language": "python",
   "name": "python3"
  },
  "language_info": {
   "codemirror_mode": {
    "name": "ipython",
    "version": 3
   },
   "file_extension": ".py",
   "mimetype": "text/x-python",
   "name": "python",
   "nbconvert_exporter": "python",
   "pygments_lexer": "ipython3",
   "version": "3.6.8"
  }
 },
 "nbformat": 4,
 "nbformat_minor": 2
}
