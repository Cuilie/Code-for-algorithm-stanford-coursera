{
 "cells": [
  {
   "cell_type": "code",
   "execution_count": 1,
   "metadata": {},
   "outputs": [],
   "source": [
    "from Model import *\n",
    "from DataLoader import *\n",
    "from Setting import *\n",
    "import collections\n",
    "import os"
   ]
  },
  {
   "cell_type": "code",
   "execution_count": 2,
   "metadata": {},
   "outputs": [],
   "source": [
    "\n",
    "class JS(Model):\n",
    "    def __init__(self):\n",
    "        super().__init__()\n",
    "        \n",
    "    def preprocess(self):\n",
    "        self.jobs = self.dataLoader.data[1:]\n",
    "        \n",
    "     \n",
    "    def model_notopt(self):\n",
    "        sorted_job = sorted(self.jobs, key = lambda x: (x[0]-x[1],x[0]), reverse = True)\n",
    "        \n",
    "        total = 0\n",
    "        for job in sorted_job:\n",
    "            total+=job[1]\n",
    "            job[1] = total\n",
    "\n",
    "        weighted_sum = sum(map(lambda x : x[0]*x[1],sorted_job))\n",
    "        return weighted_sum \n",
    "    \n",
    "    def model(self):\n",
    "\n",
    "        sorted_job = sorted(self.jobs, key = lambda x: (x[0]/x[1],x[0]),reverse = True)\n",
    "        \n",
    "        total = 0\n",
    "        for job in sorted_job:\n",
    "            total+=job[1]\n",
    "            job[1] = total\n",
    "            \n",
    "        weighted_sum = sum(map(lambda x : x[0]*x[1],sorted_job))\n",
    "        \n",
    "        return weighted_sum \n"
   ]
  },
  {
   "cell_type": "code",
   "execution_count": 4,
   "metadata": {},
   "outputs": [
    {
     "name": "stdout",
     "output_type": "stream",
     "text": [
      "Loading data ...\n",
      "Total 10001 lines read\n",
      "--------------------------------------------------\n",
      "result:67311454237\n",
      "Loading data ...\n",
      "Total 10001 lines read\n",
      "--------------------------------------------------\n",
      "result:69119377652\n"
     ]
    }
   ],
   "source": [
    "processLine = lambda x : list(map(int,map(str.strip,x.split())))\n",
    "arg = {'fileName':'data/job.txt','numLines':None ,  'processLine' : processLine  }\n",
    "\n",
    "\n",
    "d = DataLoader(**arg)\n",
    "m = JS()\n",
    "s = Setting(d,m,True)\n",
    "s.run()\n"
   ]
  },
  {
   "cell_type": "code",
   "execution_count": null,
   "metadata": {},
   "outputs": [],
   "source": []
  },
  {
   "cell_type": "code",
   "execution_count": null,
   "metadata": {},
   "outputs": [],
   "source": []
  },
  {
   "cell_type": "code",
   "execution_count": null,
   "metadata": {},
   "outputs": [],
   "source": []
  },
  {
   "cell_type": "code",
   "execution_count": null,
   "metadata": {},
   "outputs": [],
   "source": []
  },
  {
   "cell_type": "code",
   "execution_count": null,
   "metadata": {},
   "outputs": [],
   "source": []
  }
 ],
 "metadata": {
  "kernelspec": {
   "display_name": "Python 3",
   "language": "python",
   "name": "python3"
  },
  "language_info": {
   "codemirror_mode": {
    "name": "ipython",
    "version": 3
   },
   "file_extension": ".py",
   "mimetype": "text/x-python",
   "name": "python",
   "nbconvert_exporter": "python",
   "pygments_lexer": "ipython3",
   "version": "3.7.3"
  }
 },
 "nbformat": 4,
 "nbformat_minor": 2
}
