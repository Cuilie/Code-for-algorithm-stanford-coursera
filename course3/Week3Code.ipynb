{
 "cells": [
  {
   "cell_type": "code",
   "execution_count": 12,
   "metadata": {},
   "outputs": [],
   "source": [
    "from Model import *\n",
    "from DataLoader import *\n",
    "from Setting import *\n",
    "import collections\n",
    "import os\n",
    "import numpy as np\n",
    "import pickle\n",
    "import heapq"
   ]
  },
  {
   "cell_type": "code",
   "execution_count": null,
   "metadata": {},
   "outputs": [],
   "source": []
  },
  {
   "cell_type": "markdown",
   "metadata": {},
   "source": [
    "## Week3 code1 Huffman coding (Greedy)"
   ]
  },
  {
   "cell_type": "code",
   "execution_count": 13,
   "metadata": {},
   "outputs": [],
   "source": [
    "class Node():\n",
    "    def __init__(self):\n",
    "        self.isleaf = None\n",
    "        self.father = None\n",
    "        self.children = []\n",
    "        self.value = None\n"
   ]
  },
  {
   "cell_type": "code",
   "execution_count": 14,
   "metadata": {},
   "outputs": [],
   "source": [
    "# heapq class\n",
    "class Heap(object):\n",
    "    \n",
    "    def __init__(self, initial=None, key=lambda x:x , reverse = False):\n",
    "        self.key = key\n",
    "        if initial:\n",
    "            self._data = [(key(item),id(item), item) for item in initial]\n",
    "            heapq.heapify(self._data)\n",
    "        else:\n",
    "            self._data = []\n",
    "\n",
    "    def push(self, item):\n",
    "        heapq.heappush(self._data, (self.key(item),id(item), item))\n",
    "\n",
    "    def pop(self):\n",
    "        try:\n",
    "            return heapq.heappop(self._data)[2]\n",
    "        except:\n",
    "            return None\n",
    "\n",
    "    def length(self):\n",
    "        return len(self._data)"
   ]
  },
  {
   "cell_type": "code",
   "execution_count": 45,
   "metadata": {},
   "outputs": [],
   "source": [
    "class Huffman(Model):\n",
    "    def __init__(self):\n",
    "        super().__init__()\n",
    "\n",
    "        \n",
    "    def preprocess(self):\n",
    "        self.data = self.dataLoader.data[1:]\n",
    "        self.codedict = {}\n",
    "    \n",
    "    \n",
    "    def expend_fathernode(self,node):\n",
    "        if node.isleaf == True:\n",
    "            self.codedict[int(node.id[0])] = node.code\n",
    "            return \n",
    "\n",
    "        for index in range(len(node.children)):\n",
    "            if index == 0:\n",
    "                node.children[index].code =node.code +  '0'\n",
    "                self.expend_fathernode(node.children[index])\n",
    "\n",
    "            if index == 1:\n",
    "                node.children[index].code =node.code +   '1'\n",
    "                self.expend_fathernode(node.children[index])\n",
    "\n",
    "        \n",
    "        \n",
    "        \n",
    "    def model(self):\n",
    "        \n",
    "        indexed_data = dict(zip(range(len(self.data)),self.data))\n",
    "        listed_data = list(zip(self.data,range(len(self.data))))\n",
    "        listed_data = [(i[0][0],(i[1])) for i in listed_data]\n",
    "        \n",
    "        # Initialize heapq\n",
    "        hp = Heap(listed_data, key = lambda x:x[0])\n",
    "        \n",
    "        # Initialize node\n",
    "        for i in indexed_data.keys():\n",
    "            node = Node()\n",
    "            node.value = indexed_data[i][0]\n",
    "            node.code = ''\n",
    "            node.isleaf = True\n",
    "            node.id = (i,)\n",
    "            indexed_data[i] = node\n",
    "            \n",
    "\n",
    "        while hp.length() > 1:\n",
    "            # Pop two nodes from heapq\n",
    "            popnode1 = indexed_data[hp.pop()[1]]\n",
    "            popnode2 = indexed_data[hp.pop()[1]]\n",
    "            \n",
    "            '''\n",
    "            initiate a father node, \n",
    "            isleaf = false, \n",
    "            value = [subnode1_value, subnode2_value]\n",
    "            Children = [popnode1, popnode2]\n",
    "            '''\n",
    "            \n",
    "            father_node = Node()\n",
    "            father_node.code = ''\n",
    "            father_node.isleaf = False\n",
    "            father_node.id = popnode1.id + popnode2.id       \n",
    "            father_node.value = popnode1.value + popnode2.value\n",
    "            father_node.children.append(popnode1)\n",
    "            father_node.children.append(popnode2)\n",
    "\n",
    "            \n",
    "            # push father node to the heapq\n",
    "            hp.push((father_node.value,father_node.id))\n",
    "            \n",
    "            # store father node into hashtable\n",
    "            indexed_data[father_node.id] = father_node\n",
    "        \n",
    "        # Expend the root node and assign code\n",
    "        self.expend_fathernode(father_node)\n",
    "        \n",
    "        # Compute the max length of code\n",
    "        max_length = max([len(i) for i in self.codedict.values()])\n",
    "        min_length = min([len(i) for i in self.codedict.values()])\n",
    "        \n",
    "\n",
    "        print('Need bits:',sum([len(self.codedict[i[1]]) * i[0] for i in listed_data]))\n",
    "\n",
    "\n",
    "        return (max_length,min_length)"
   ]
  },
  {
   "cell_type": "code",
   "execution_count": 46,
   "metadata": {},
   "outputs": [
    {
     "name": "stdout",
     "output_type": "stream",
     "text": [
      "Loading data ...\n",
      "Total 1001 lines read\n",
      "--------------------------------------------------\n",
      "Need bits: 48457275093\n",
      "result:(19, 9)\n"
     ]
    }
   ],
   "source": [
    "processLine = lambda x : list(map(int,map(str.strip,x.split())))\n",
    "arg = {'fileName':'./data/huffman.txt','numLines':None ,  'processLine' : processLine  }\n",
    "\n",
    "d = DataLoader(**arg)\n",
    "m = Huffman()\n",
    "s = Setting(d,m,False)\n",
    "s.run()"
   ]
  },
  {
   "cell_type": "code",
   "execution_count": null,
   "metadata": {},
   "outputs": [],
   "source": []
  },
  {
   "cell_type": "markdown",
   "metadata": {},
   "source": [
    "## Week3 code2 Maximum weight independent set (path graph)"
   ]
  },
  {
   "cell_type": "code",
   "execution_count": 625,
   "metadata": {},
   "outputs": [],
   "source": [
    "class mwi_set(Model):\n",
    "    def __init__(self):\n",
    "        super().__init__()\n",
    "\n",
    "        \n",
    "    def preprocess(self):\n",
    "        self.data = self.dataLoader.data[1:]\n",
    "        self.data = [i[0] for i in self.data]\n",
    "        \n",
    "        self.result_dict = {}\n",
    "    \n",
    "    def mwi(self,data):\n",
    "        if len(data) == 1: \n",
    "            self.result_dict[len(data)] = data[0] \n",
    "            return data[0]\n",
    "        \n",
    "        if len(data) == 2: \n",
    "            self.result_dict[len(data)] = max(data)\n",
    "            return max(data)\n",
    "\n",
    "        if len(data) > 2:\n",
    "            length = len(data)\n",
    "            try:\n",
    "                value1 = self.result_dict[length - 1]\n",
    "            except:\n",
    "                value1 = self.mwi(data[:length - 1])\n",
    "                self.result_dict[length - 1] = value1\n",
    "                \n",
    "            try:\n",
    "                value2 = self.result_dict[length - 2]\n",
    "            except:\n",
    "                value2 = self.mwi(data[:length - 2])\n",
    "                self.result_dict[length - 2] = value2\n",
    "\n",
    "            result =  max(value1,value2  + data[len(data)-1])\n",
    "            self.result_dict[length] = result\n",
    "            return result\n",
    "\n",
    "    def find_path(self,result_list):\n",
    "        S = set()\n",
    "        i = len(result_list)-1\n",
    "        while i>=0:\n",
    "            if result_list[i-1] > result_list[i-2] + self.data[i]:\n",
    "                i = i - 1\n",
    "            else:\n",
    "                S.add(i)\n",
    "                i = i-2\n",
    "                if i == 0:\n",
    "                    S.add(i)\n",
    "        return S\n",
    "    \n",
    "    def compute_bit(self,S):\n",
    "        targ_v = [1,2,3,4,17,117,517,997]\n",
    "        \n",
    "        return [1 if (i-1 in S) else 0 for i in targ_v]\n",
    "    \n",
    "    \n",
    "    def model(self):\n",
    "        data = self.data\n",
    "        self.mwi(data)\n",
    "        result_list = [self.result_dict[i+1] for i in range(len(self.result_dict))]\n",
    "        S = self.find_path(result_list)\n",
    "        bitcode = self.compute_bit(S)\n",
    "        return bitcode"
   ]
  },
  {
   "cell_type": "code",
   "execution_count": 626,
   "metadata": {},
   "outputs": [
    {
     "name": "stdout",
     "output_type": "stream",
     "text": [
      "Loading data ...\n",
      "Total 1001 lines read\n",
      "--------------------------------------------------\n",
      "result:[1, 0, 1, 0, 0, 1, 1, 0]\n"
     ]
    }
   ],
   "source": [
    "processLine = lambda x : list(map(int,map(str.strip,x.split())))\n",
    "arg = {'fileName':'./data/mwis.txt','numLines':None ,  'processLine' : processLine  }\n",
    "\n",
    "d = DataLoader(**arg)\n",
    "m = mwi_set()\n",
    "s = Setting(d,m,False)\n",
    "s.run()"
   ]
  },
  {
   "cell_type": "code",
   "execution_count": null,
   "metadata": {},
   "outputs": [],
   "source": []
  },
  {
   "cell_type": "code",
   "execution_count": null,
   "metadata": {},
   "outputs": [],
   "source": []
  },
  {
   "cell_type": "code",
   "execution_count": null,
   "metadata": {},
   "outputs": [],
   "source": []
  },
  {
   "cell_type": "code",
   "execution_count": null,
   "metadata": {},
   "outputs": [],
   "source": []
  },
  {
   "cell_type": "code",
   "execution_count": null,
   "metadata": {},
   "outputs": [],
   "source": []
  },
  {
   "cell_type": "code",
   "execution_count": null,
   "metadata": {},
   "outputs": [],
   "source": []
  },
  {
   "cell_type": "code",
   "execution_count": null,
   "metadata": {},
   "outputs": [],
   "source": []
  }
 ],
 "metadata": {
  "kernelspec": {
   "display_name": "Python 3",
   "language": "python",
   "name": "python3"
  },
  "language_info": {
   "codemirror_mode": {
    "name": "ipython",
    "version": 3
   },
   "file_extension": ".py",
   "mimetype": "text/x-python",
   "name": "python",
   "nbconvert_exporter": "python",
   "pygments_lexer": "ipython3",
   "version": "3.6.8"
  }
 },
 "nbformat": 4,
 "nbformat_minor": 2
}
