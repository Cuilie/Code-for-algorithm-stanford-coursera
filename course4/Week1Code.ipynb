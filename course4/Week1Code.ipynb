{
 "cells": [
  {
   "cell_type": "code",
   "execution_count": 111,
   "metadata": {},
   "outputs": [],
   "source": [
    " from Model import *\n",
    "from DataLoader import *\n",
    "from Setting import *\n",
    "\n",
    "import collections\n",
    "import os\n",
    "import numpy as np\n",
    "import pickle"
   ]
  },
  {
   "cell_type": "markdown",
   "metadata": {},
   "source": [
    "## Week1 Code1 All-Pairs Shortest Path algorithm\n",
    "\n",
    "There are two solution to compute All-pairs shorest path: The Floyd-Warshall Algorithm and Johnson's Algorithm. In this progamming assignment, I simply use the Floyd-Warshall Algorithm, for it is easier to implement. The time complexity is cubic n, higher than Johnson's Algorithm, which is close to nmlog(n).Video:https://www.coursera.org/learn/algorithms-npcomplete/lecture/WKb60/the-floyd-warshall-algorithm"
   ]
  },
  {
   "cell_type": "code",
   "execution_count": 116,
   "metadata": {},
   "outputs": [],
   "source": [
    "class  all_pairs_shortest_path(Model):\n",
    "    def __init__(self):\n",
    "        super().__init__()\n",
    "\n",
    "        \n",
    "    def preprocess(self):\n",
    "        self.data = self.dataLoader.data[1:]\n",
    "        self.size = self.dataLoader.data[0]\n",
    "        self.codedict = {}\n",
    "    \n",
    "        \n",
    "    def model(self):\n",
    "        vertices_list = range(0,self.size[0]+1)\n",
    "        edges_dict = {(i[0],i[1]):i[2] for i in self.data}\n",
    "        A = [[0 for _ in vertices_list] for _ in vertices_list]\n",
    "        \n",
    "        # Set the base case\n",
    "        flag = False\n",
    "        for k in vertices_list:\n",
    "\n",
    "            if k%50 == 0:\n",
    "                print('Finish:','%.3f' % (k/len(vertices_list)),'%')\n",
    "\n",
    "\n",
    "            new_A = [[0 for _ in vertices_list] for _ in vertices_list]\n",
    "            for i in vertices_list:\n",
    "                for j in vertices_list:\n",
    "                    if i == 0 or j ==0:\n",
    "                        continue\n",
    "\n",
    "                    if k == 0:\n",
    "                        if (i,j) in edges_dict:\n",
    "\n",
    "                            new_A[i][j] = edges_dict[(i,j)]\n",
    "                        elif i==j:\n",
    "                            new_A[i][j] == 0\n",
    "\n",
    "                        else:\n",
    "                            new_A[i][j] = float('inf')\n",
    "                        continue                        \n",
    "                    else:\n",
    "                        new_A[i][j] = min( A[i][j],  A[i][k] +  A[k][j])\n",
    "\n",
    "                        if i==j:\n",
    "                            if new_A[i][j]<0:\n",
    "                                print('Negetive cycle dectected!')\n",
    "                                flag = True\n",
    "                                break\n",
    "                if flag:\n",
    "                    break\n",
    "\n",
    "            A = new_A.copy()\n",
    "            if flag:\n",
    "                    break\n",
    "        print(\"Finish computation!\")\n",
    "\n",
    "\n",
    "        minv = 1e9\n",
    "        for i in vertices_list:\n",
    "            for j in vertices_list:\n",
    "\n",
    "                if A[i][j] < minv:\n",
    "                    minv = A[i][j]\n",
    "\n",
    "\n",
    "        if flag:\n",
    "            print('A negetive cycle has been detect, so minimium shortest path does not exsited!')\n",
    "            return None\n",
    "        else:\n",
    "            print('The lenght of minimium shortest path: ',minv)\n",
    "            return minv\n",
    "\n",
    "        return minv\n",
    "        \n"
   ]
  },
  {
   "cell_type": "code",
   "execution_count": 117,
   "metadata": {},
   "outputs": [
    {
     "name": "stdout",
     "output_type": "stream",
     "text": [
      "Wall time: 0 ns\n",
      "Loading data ...\n",
      "Total 47979 lines read\n",
      "--------------------------------------------------\n",
      "Finish: 0.000 %\n",
      "Finish: 0.050 %\n",
      "Finish: 0.100 %\n",
      "Negetive cycle dectected!\n",
      "Finish computation!\n",
      "A negetive cycle has been detect, so minimium shortest path does not exsited!\n",
      "result:None\n"
     ]
    }
   ],
   "source": [
    "%time\n",
    "processLine = lambda x : [int(i.replace('\\n','')) for i in x.split(' ')]\n",
    "arg = {'fileName':'./data/g1.txt','numLines':None ,  'processLine' : processLine  }\n",
    "\n",
    "d = DataLoader(**arg)\n",
    "m =  all_pairs_shortest_path()\n",
    "s = Setting(d,m,False)\n",
    "s.run()"
   ]
  },
  {
   "cell_type": "code",
   "execution_count": 118,
   "metadata": {},
   "outputs": [
    {
     "name": "stdout",
     "output_type": "stream",
     "text": [
      "Wall time: 0 ns\n",
      "Loading data ...\n",
      "Total 47979 lines read\n",
      "--------------------------------------------------\n",
      "Finish: 0.000 %\n",
      "Finish: 0.050 %\n",
      "Finish: 0.100 %\n",
      "Negetive cycle dectected!\n",
      "Finish computation!\n",
      "A negetive cycle has been detect, so minimium shortest path does not exsited!\n",
      "result:None\n"
     ]
    }
   ],
   "source": [
    "%time\n",
    "processLine = lambda x : [int(i.replace('\\n','')) for i in x.split(' ')]\n",
    "arg = {'fileName':'./data/g2.txt','numLines':None ,  'processLine' : processLine  }\n",
    "\n",
    "d = DataLoader(**arg)\n",
    "m =  all_pairs_shortest_path()\n",
    "s = Setting(d,m,False)\n",
    "s.run()"
   ]
  },
  {
   "cell_type": "code",
   "execution_count": 115,
   "metadata": {},
   "outputs": [
    {
     "name": "stdout",
     "output_type": "stream",
     "text": [
      "Wall time: 0 ns\n",
      "Loading data ...\n",
      "Total 47979 lines read\n",
      "--------------------------------------------------\n",
      "Finish: 0.000 %\n",
      "Finish: 0.050 %\n",
      "Finish: 0.100 %\n",
      "Finish: 0.150 %\n",
      "Finish: 0.200 %\n",
      "Finish: 0.250 %\n",
      "Finish: 0.300 %\n",
      "Finish: 0.350 %\n",
      "Finish: 0.400 %\n",
      "Finish: 0.450 %\n",
      "Finish: 0.500 %\n",
      "Finish: 0.549 %\n",
      "Finish: 0.599 %\n",
      "Finish: 0.649 %\n",
      "Finish: 0.699 %\n",
      "Finish: 0.749 %\n",
      "Finish: 0.799 %\n",
      "Finish: 0.849 %\n",
      "Finish: 0.899 %\n",
      "Finish: 0.949 %\n",
      "Finish: 0.999 %\n",
      "Finish computation!\n",
      "The lenght of minimium shortest path:  -19\n",
      "result:-19\n"
     ]
    }
   ],
   "source": [
    "%time\n",
    "processLine = lambda x : [int(i.replace('\\n','')) for i in x.split(' ')]\n",
    "arg = {'fileName':'./data/g3.txt','numLines':None ,  'processLine' : processLine  }\n",
    "\n",
    "d = DataLoader(**arg)\n",
    "m =  all_pairs_shortest_path()\n",
    "s = Setting(d,m,False)\n",
    "s.run()"
   ]
  },
  {
   "cell_type": "code",
   "execution_count": null,
   "metadata": {
    "scrolled": false
   },
   "outputs": [],
   "source": []
  },
  {
   "cell_type": "code",
   "execution_count": 79,
   "metadata": {},
   "outputs": [],
   "source": []
  },
  {
   "cell_type": "code",
   "execution_count": null,
   "metadata": {},
   "outputs": [],
   "source": []
  },
  {
   "cell_type": "code",
   "execution_count": null,
   "metadata": {},
   "outputs": [],
   "source": []
  },
  {
   "cell_type": "code",
   "execution_count": null,
   "metadata": {},
   "outputs": [],
   "source": []
  }
 ],
 "metadata": {
  "kernelspec": {
   "display_name": "Python 3",
   "language": "python",
   "name": "python3"
  },
  "language_info": {
   "codemirror_mode": {
    "name": "ipython",
    "version": 3
   },
   "file_extension": ".py",
   "mimetype": "text/x-python",
   "name": "python",
   "nbconvert_exporter": "python",
   "pygments_lexer": "ipython3",
   "version": "3.7.3"
  }
 },
 "nbformat": 4,
 "nbformat_minor": 2
}
