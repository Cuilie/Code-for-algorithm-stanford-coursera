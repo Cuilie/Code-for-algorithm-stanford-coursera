{
 "cells": [
  {
   "cell_type": "code",
   "execution_count": 59,
   "metadata": {},
   "outputs": [],
   "source": [
    " from Model import *\n",
    "from DataLoader import *\n",
    "from Setting import *\n",
    "\n",
    "import collections\n",
    "import os\n",
    "import numpy as np\n",
    "import pickle"
   ]
  },
  {
   "cell_type": "markdown",
   "metadata": {},
   "source": [
    "## Week3 Code1 heuristic solution for TSP problem\n",
    "\n",
    "In this assignment we will revisit an old friend, the traveling salesman problem (TSP). This week you will implement a heuristic for the TSP, rather than an exact algorithm, and as a result will be able to handle much larger problem sizes. Here is a data file describing a TSP instance (original source: http://www.math.uwaterloo.ca/tsp/world/bm33708.tsp).\n",
    "\n",
    "\n",
    "The first line indicates the number of cities. Each city is a point in the plane, and each subsequent line indicates the x- and y-coordinates of a single city.\n",
    "\n",
    "The distance between two cities is defined as the Euclidean distance.\n",
    "\n",
    "You should implement the nearest neighbor heuristic:\n",
    "\n",
    "1, Start the tour at the first city.\n",
    "\n",
    "2, Repeatedly visit the closest city that the tour hasn't visited yet. In case of a tie, go to the closest city with the lowest index. For example, if both the third and fifth cities have the same distance from the first city (and are closer than any other city), then the tour should begin by going from the first city to the third city.\n",
    "\n",
    "3, Once every city has been visited exactly once, return to the first city to complete the tour.\n",
    "In the box below, enter the cost of the traveling salesman tour computed by the nearest neighbor heuristic for this instance, rounded down to the nearest integer.\n",
    "\n",
    "\\[Hint: when constructing the tour, you might find it simpler to work with squared Euclidean distances (i.e., the formula above but without the square root) than Euclidean distances. But don't forget to report the length of the tour in terms of standard Euclidean distance.\\]"
   ]
  },
  {
   "cell_type": "code",
   "execution_count": 62,
   "metadata": {},
   "outputs": [],
   "source": [
    "class  heuristic(Model):\n",
    "    def __init__(self):\n",
    "        super().__init__()\n",
    "\n",
    "        \n",
    "    def preprocess(self):\n",
    "        self.data = self.dataLoader.data[1:]\n",
    "        self.size = self.dataLoader.data[0]\n",
    "        self.codedict = {}\n",
    "    \n",
    "    \n",
    "    def ud(self,i,j):\n",
    "        distance = ((data[i - 1][1]-data[j - 1][1])**2 + (data[i - 1][2]-data[j - 1][2])**2)**(1/2)\n",
    "        return distance\n",
    "    \n",
    "    def model(self):\n",
    "        data =  self.data\n",
    "        visited = set()\n",
    "        n = len(data)\n",
    "        head = 1\n",
    "        distance = 0\n",
    "        seq = []\n",
    "        while len(visited) != n:\n",
    "            seq.append(head)\n",
    "            visited.add(head)\n",
    "            minv = float('inf')\n",
    "            minidx = 1\n",
    "            for i in range(1,len(data)+1):\n",
    "                if i not in visited:\n",
    "                    if self.ud(head,i) <  minv:\n",
    "                        minv = self.ud(head,i)\n",
    "                        minidx = i\n",
    "            distance += self.ud(head,minidx)\n",
    "            head = minidx\n",
    "        return distance\n",
    "        \n"
   ]
  },
  {
   "cell_type": "code",
   "execution_count": 63,
   "metadata": {},
   "outputs": [
    {
     "name": "stdout",
     "output_type": "stream",
     "text": [
      "Wall time: 0 ns\n",
      "Loading data ...\n",
      "Total 33709 lines read\n",
      "--------------------------------------------------\n",
      "result:1203406.5012708856\n"
     ]
    }
   ],
   "source": [
    "%%time\n",
    "processLine = lambda x : [float(i.replace('\\n','')) for i in x.split(' ')]\n",
    "arg = {'fileName':'./data/nn.txt','numLines':None ,  'processLine' : processLine  }\n",
    "\n",
    "d = DataLoader(**arg)\n",
    "m =  heuristic()\n",
    "s = Setting(d,m,False)\n",
    "s.run()"
   ]
  },
  {
   "cell_type": "code",
   "execution_count": null,
   "metadata": {},
   "outputs": [],
   "source": []
  },
  {
   "cell_type": "code",
   "execution_count": null,
   "metadata": {},
   "outputs": [],
   "source": []
  },
  {
   "cell_type": "code",
   "execution_count": null,
   "metadata": {},
   "outputs": [],
   "source": []
  }
 ],
 "metadata": {
  "kernelspec": {
   "display_name": "Python 3",
   "language": "python",
   "name": "python3"
  },
  "language_info": {
   "codemirror_mode": {
    "name": "ipython",
    "version": 3
   },
   "file_extension": ".py",
   "mimetype": "text/x-python",
   "name": "python",
   "nbconvert_exporter": "python",
   "pygments_lexer": "ipython3",
   "version": "3.7.3"
  }
 },
 "nbformat": 4,
 "nbformat_minor": 2
}
