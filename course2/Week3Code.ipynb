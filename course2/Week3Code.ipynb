{
 "cells": [
  {
   "cell_type": "code",
   "execution_count": 1,
   "metadata": {},
   "outputs": [],
   "source": [
    "from Model import *\n",
    "from DataLoader import *\n",
    "from Setting import *\n",
    "import collections\n",
    "import os\n",
    "import numpy as np\n",
    "import pickle\n",
    "import heapq"
   ]
  },
  {
   "cell_type": "markdown",
   "metadata": {},
   "source": [
    "## Week3 code1 Median Maintenance with heap"
   ]
  },
  {
   "cell_type": "code",
   "execution_count": 14,
   "metadata": {},
   "outputs": [],
   "source": [
    "# heap class, using heapq package\n",
    "class Heap(object):\n",
    "    def __init__(self, initial=None, key=lambda x:x , reverse = False):\n",
    "        self.key = key\n",
    "        if initial:\n",
    "            self._data = [(key(item),id(item), item) for item in initial]\n",
    "            heapq.heapify(self._data)\n",
    "        else:\n",
    "            self._data = []\n",
    "\n",
    "    def push(self, item):\n",
    "        heapq.heappush(self._data, (self.key(item),id(item), item))\n",
    "\n",
    "    def pop(self):\n",
    "        try:\n",
    "            return heapq.heappop(self._data)[2]\n",
    "        except:\n",
    "            return None\n",
    "\n",
    "    def length(self):\n",
    "        return len(self._data)"
   ]
  },
  {
   "cell_type": "code",
   "execution_count": 25,
   "metadata": {},
   "outputs": [
    {
     "name": "stdout",
     "output_type": "stream",
     "text": [
      "[4, 4, 8, 9, 4, 12, 9, 11, 13, 7]\n",
      "[4, 4, 8, 9, 4, 12, 9, 11, 13, 7, 10]\n",
      "[4, 4, 5, 9, 4, 8, 9, 11, 13, 7, 10, 12]\n",
      "[12, 4, 5, 9, 4, 8, 9, 11, 13, 7, 10]\n"
     ]
    }
   ],
   "source": [
    "# Heap class implementation using list\n",
    "class Heap(object):\n",
    "    \n",
    "    def __init__(self):\n",
    "        self._data = [4,4,8,9,4,12,9,11,13]\n",
    "        \n",
    "    def insert(self, item):\n",
    "        self._data.append(item)\n",
    "        location = len(self._data)\n",
    "        \n",
    "        while item <= self._data[location//2 -1]:\n",
    "            self._data[location-1], self._data[location//2 -1] = self._data[location//2 -1],self._data[location-1] \n",
    "            location = location//2\n",
    "        print(self._data)\n",
    "    \n",
    "    def popmin(self):\n",
    "        minvalue = self._data[0]\n",
    "        \n",
    "        self._data[0], self._data[len(self._data)-1] = self._data[len(self._data)-1], self._data[0]\n",
    "        self._data = self._data[:-1]\n",
    "        \n",
    "        \n",
    "        data = self._data\n",
    "        \n",
    "        \n",
    "        loc = 0\n",
    "        nextloc1 = (loc+1)*2 -1\n",
    "        nextloc2 = (loc+1)*2 \n",
    "        \n",
    "        \n",
    "        \n",
    "        while data[loc]>\n",
    "                \n",
    "            \n",
    "        \n",
    "        print(data)\n",
    "        return minvalue\n",
    "        \n",
    "\n",
    "heap = Heap()\n",
    "\n",
    "heap.insert(7)\n",
    "heap.insert(10)\n",
    "heap.insert(5)\n",
    "\n",
    "assert heap.popmin() == 4"
   ]
  },
  {
   "cell_type": "code",
   "execution_count": 2,
   "metadata": {},
   "outputs": [],
   "source": [
    "class TwoHeapsMedian(Model):\n",
    "    def __init__(self):\n",
    "        super().__init__()\n",
    "\n",
    "        \n",
    "    def preprocess(self):\n",
    "        self.data = self.dataLoader.data\n",
    "        self.codedict = {}\n",
    "    \n",
    "    \n",
    "\n",
    "        \n",
    "    def model(self):\n",
    "        pass\n",
    "        \n"
   ]
  },
  {
   "cell_type": "code",
   "execution_count": 46,
   "metadata": {},
   "outputs": [
    {
     "name": "stdout",
     "output_type": "stream",
     "text": [
      "Loading data ...\n",
      "Total 1001 lines read\n",
      "--------------------------------------------------\n",
      "Need bits: 48457275093\n",
      "result:(19, 9)\n"
     ]
    }
   ],
   "source": [
    "processLine = lambda x : list(map(int,map(str.strip,x.split())))\n",
    "arg = {'fileName':'./data/median.txt','numLines':None ,  'processLine' : processLine  }\n",
    "\n",
    "d = DataLoader(**arg)\n",
    "m = TwoHeapsMedian()\n",
    "s = Setting(d,m,False)\n",
    "s.run()"
   ]
  },
  {
   "cell_type": "code",
   "execution_count": null,
   "metadata": {},
   "outputs": [],
   "source": [
    "s"
   ]
  },
  {
   "cell_type": "code",
   "execution_count": null,
   "metadata": {},
   "outputs": [],
   "source": []
  },
  {
   "cell_type": "code",
   "execution_count": null,
   "metadata": {},
   "outputs": [],
   "source": []
  },
  {
   "cell_type": "code",
   "execution_count": null,
   "metadata": {},
   "outputs": [],
   "source": []
  }
 ],
 "metadata": {
  "kernelspec": {
   "display_name": "Python 3",
   "language": "python",
   "name": "python3"
  },
  "language_info": {
   "codemirror_mode": {
    "name": "ipython",
    "version": 3
   },
   "file_extension": ".py",
   "mimetype": "text/x-python",
   "name": "python",
   "nbconvert_exporter": "python",
   "pygments_lexer": "ipython3",
   "version": "3.7.3"
  }
 },
 "nbformat": 4,
 "nbformat_minor": 2
}
