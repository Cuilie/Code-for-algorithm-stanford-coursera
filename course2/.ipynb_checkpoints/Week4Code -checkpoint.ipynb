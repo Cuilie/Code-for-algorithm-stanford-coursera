{
 "cells": [
  {
   "cell_type": "markdown",
   "metadata": {},
   "source": [
    "## Week4 Code1 2Sum using Hashtable\n",
    "This week I implement a 2Sum algorithm using hashtable. This algorithm takes 1 hour to run\n",
    "\n",
    "Coursera link:https://www.coursera.org/learn/algorithms-graphs-data-structures/lecture/1Y8t1/hash-tables-implementation-details-part-ii\n",
    "\n"
   ]
  },
  {
   "cell_type": "code",
   "execution_count": 4,
   "metadata": {},
   "outputs": [],
   "source": [
    "from Model import *\n",
    "from DataLoader import *\n",
    "from Setting import *\n",
    "import collections\n",
    "import os\n",
    "import numpy as np\n",
    "import pickle\n",
    "import heapq\n",
    "import math"
   ]
  },
  {
   "cell_type": "code",
   "execution_count": 45,
   "metadata": {},
   "outputs": [],
   "source": [
    "class Hash2Ssum(Model):\n",
    "    def __init__(self):\n",
    "        super().__init__()\n",
    "\n",
    "        \n",
    "    def preprocess(self):\n",
    "        self.data = self.dataLoader.data\n",
    "        self.data = [i[0] for i in self.data if i!=[]]\n",
    "        self.data = list(set(self.data))\n",
    "        self.codedict = {}\n",
    "    \n",
    "        \n",
    "    def model(self):\n",
    "        dataset = set(self.data)\n",
    "        bllist = {}\n",
    "        for i in range(low,high):\n",
    "            if i%500 == 0:\n",
    "                print(i)\n",
    "            for item in dataset:\n",
    "                if i-item in dataset:\n",
    "                    if i-item!=item:\n",
    "                        bllist[i] = True\n",
    "                        break\n",
    "        \n",
    "        return sum(bllist.values())\n"
   ]
  },
  {
   "cell_type": "code",
   "execution_count": 46,
   "metadata": {},
   "outputs": [
    {
     "name": "stdout",
     "output_type": "stream",
     "text": [
      "Loading data ...\n",
      "Total 1000000 lines read\n",
      "--------------------------------------------------\n",
      "-10000\n",
      "-9500\n",
      "-9000\n",
      "-8500\n",
      "-8000\n",
      "-7500\n",
      "-7000\n",
      "-6500\n",
      "-6000\n",
      "-5500\n",
      "-5000\n",
      "-4500\n",
      "-4000\n",
      "-3500\n",
      "-3000\n",
      "-2500\n",
      "-2000\n",
      "-1500\n",
      "-1000\n",
      "-500\n",
      "0\n",
      "500\n",
      "1000\n",
      "1500\n",
      "2000\n",
      "2500\n",
      "3000\n",
      "3500\n",
      "4000\n",
      "4500\n",
      "5000\n",
      "5500\n",
      "6000\n",
      "6500\n",
      "7000\n",
      "7500\n",
      "8000\n",
      "8500\n",
      "9000\n",
      "9500\n",
      "10000\n",
      "result:427\n"
     ]
    }
   ],
   "source": [
    "processLine = lambda x : list(map(int,map(str.strip,x.split())))\n",
    "arg = {'fileName':'./data/prob-2sum.txt','numLines':None ,  'processLine' : processLine  }\n",
    "\n",
    "d = DataLoader(**arg)\n",
    "m = Hash2Ssum()\n",
    "s = Setting(d,m,False)\n",
    "s.run()"
   ]
  },
  {
   "cell_type": "code",
   "execution_count": null,
   "metadata": {},
   "outputs": [],
   "source": []
  },
  {
   "cell_type": "code",
   "execution_count": null,
   "metadata": {},
   "outputs": [],
   "source": []
  },
  {
   "cell_type": "code",
   "execution_count": null,
   "metadata": {},
   "outputs": [],
   "source": []
  },
  {
   "cell_type": "code",
   "execution_count": null,
   "metadata": {},
   "outputs": [],
   "source": []
  }
 ],
 "metadata": {
  "kernelspec": {
   "display_name": "Python 3",
   "language": "python",
   "name": "python3"
  },
  "language_info": {
   "codemirror_mode": {
    "name": "ipython",
    "version": 3
   },
   "file_extension": ".py",
   "mimetype": "text/x-python",
   "name": "python",
   "nbconvert_exporter": "python",
   "pygments_lexer": "ipython3",
   "version": "3.7.3"
  }
 },
 "nbformat": 4,
 "nbformat_minor": 2
}
